{
 "cells": [
  {
   "cell_type": "code",
   "execution_count": null,
   "id": "c6e3fcd8",
   "metadata": {},
   "outputs": [],
   "source": [
    "import pandas as pd\n",
    "from sklearn.preprocessing import StandardScaler\n",
    "from sklearn.model_selection import train_test_split\n",
    "# import lazypredict\n",
    "from sklearn.ensemble import RandomForestClassifier\n",
    "from sklearn.linear_model import LogisticRegression\n",
    "from sklearn.metrics import classification_report\n",
    "import xgboost as xgb"
   ]
  },
  {
   "cell_type": "code",
   "execution_count": null,
   "id": "9231fb19",
   "metadata": {},
   "outputs": [],
   "source": [
    "df = pd.read_csv('heart.csv')"
   ]
  },
  {
   "cell_type": "code",
   "execution_count": null,
   "id": "f5963850",
   "metadata": {},
   "outputs": [],
   "source": [
    "df.head()"
   ]
  },
  {
   "cell_type": "code",
   "execution_count": null,
   "id": "c58afc4c",
   "metadata": {},
   "outputs": [],
   "source": [
    "df.describe()"
   ]
  },
  {
   "cell_type": "code",
   "execution_count": null,
   "id": "bdb29382",
   "metadata": {},
   "outputs": [],
   "source": [
    "df.info()"
   ]
  },
  {
   "cell_type": "code",
   "execution_count": null,
   "id": "265e7ebc",
   "metadata": {},
   "outputs": [],
   "source": [
    "scaler = StandardScaler()\n",
    "scaler.fit(df.drop('target', axis='columns'))\n",
    "df_scaled = scaler.transform(df.drop('target', axis='columns'))\n"
   ]
  },
  {
   "cell_type": "code",
   "execution_count": null,
   "id": "9188b0cd",
   "metadata": {},
   "outputs": [],
   "source": [
    "df_X = pd.DataFrame(df_scaled, columns=scaler.feature_names_in_)"
   ]
  },
  {
   "cell_type": "code",
   "execution_count": null,
   "id": "0a92eaa8",
   "metadata": {},
   "outputs": [],
   "source": [
    "df_Y = df['target']"
   ]
  },
  {
   "cell_type": "code",
   "execution_count": null,
   "id": "ea218509",
   "metadata": {},
   "outputs": [],
   "source": [
    "train_X, test_X, train_y, test_y = train_test_split(df_X, df_Y, train_size=0.8, random_state=42)"
   ]
  },
  {
   "cell_type": "code",
   "execution_count": null,
   "id": "2d70a8ac",
   "metadata": {},
   "outputs": [],
   "source": [
    "model = RandomForestClassifier()\n",
    "model.fit(train_X, train_y)\n",
    "predict = model.predict(test_X)"
   ]
  },
  {
   "cell_type": "code",
   "execution_count": null,
   "id": "20149159",
   "metadata": {},
   "outputs": [],
   "source": [
    "print(classification_report(predict, test_y))"
   ]
  },
  {
   "cell_type": "code",
   "execution_count": null,
   "id": "5a13a7af",
   "metadata": {},
   "outputs": [],
   "source": [
    "model = LogisticRegression()\n",
    "model.fit(train_X, train_y)\n",
    "predict = model.predict(test_X)"
   ]
  },
  {
   "cell_type": "code",
   "execution_count": null,
   "id": "7ad903cb",
   "metadata": {},
   "outputs": [],
   "source": [
    "print(classification_report(predict, test_y))"
   ]
  },
  {
   "cell_type": "code",
   "execution_count": null,
   "id": "de4f8627",
   "metadata": {},
   "outputs": [],
   "source": [
    "coeff_list = list(model.coef_[0])"
   ]
  },
  {
   "cell_type": "code",
   "execution_count": null,
   "id": "b949542f",
   "metadata": {},
   "outputs": [],
   "source": [
    "column_list = list(train_X.columns)"
   ]
  },
  {
   "cell_type": "code",
   "execution_count": null,
   "id": "95d77f00",
   "metadata": {},
   "outputs": [],
   "source": [
    "importance = [(coeff_list[i], column_list[i]) for i in range(len(column_list))]"
   ]
  },
  {
   "cell_type": "code",
   "execution_count": null,
   "id": "c1c48f25",
   "metadata": {},
   "outputs": [],
   "source": [
    "importance = sorted(importance, key= lambda x: x[0])"
   ]
  },
  {
   "cell_type": "code",
   "execution_count": null,
   "id": "b7afd448",
   "metadata": {},
   "outputs": [],
   "source": [
    "importance"
   ]
  },
  {
   "cell_type": "code",
   "execution_count": null,
   "id": "f68c5cb5",
   "metadata": {},
   "outputs": [],
   "source": [
    "features = ['cp', 'thalach', 'slope', 'restecg', 'age', 'fbs']"
   ]
  },
  {
   "cell_type": "code",
   "execution_count": null,
   "id": "0403aff6",
   "metadata": {},
   "outputs": [],
   "source": [
    "train_X = train_X[features]"
   ]
  },
  {
   "cell_type": "code",
   "execution_count": null,
   "id": "07d014ba",
   "metadata": {},
   "outputs": [],
   "source": [
    "test_X = test_X[features]"
   ]
  },
  {
   "cell_type": "code",
   "execution_count": null,
   "id": "25f80936",
   "metadata": {},
   "outputs": [],
   "source": [
    "test_X"
   ]
  },
  {
   "cell_type": "code",
   "execution_count": null,
   "id": "8ead1e61",
   "metadata": {},
   "outputs": [],
   "source": [
    "model = RandomForestClassifier()\n",
    "model.fit(train_X, train_y)\n",
    "predict = model.predict(test_X)"
   ]
  },
  {
   "cell_type": "code",
   "execution_count": null,
   "id": "e3245d26",
   "metadata": {},
   "outputs": [],
   "source": [
    "print(classification_report(predict, test_y))"
   ]
  },
  {
   "cell_type": "code",
   "execution_count": null,
   "id": "a6b606dd",
   "metadata": {},
   "outputs": [],
   "source": [
    "model = xgb.XGBClassifier()\n",
    "model.fit(train_X, train_y)\n",
    "predict = model.predict(test_X)"
   ]
  },
  {
   "cell_type": "code",
   "execution_count": null,
   "id": "261cfc2a",
   "metadata": {},
   "outputs": [],
   "source": [
    "print(classification_report(predict, test_y))"
   ]
  },
  {
   "cell_type": "code",
   "execution_count": null,
   "id": "9886c1e2",
   "metadata": {},
   "outputs": [],
   "source": []
  }
 ],
 "metadata": {
  "kernelspec": {
   "display_name": "Python 3 (ipykernel)",
   "language": "python",
   "name": "python3"
  },
  "language_info": {
   "codemirror_mode": {
    "name": "ipython",
    "version": 3
   },
   "file_extension": ".py",
   "mimetype": "text/x-python",
   "name": "python",
   "nbconvert_exporter": "python",
   "pygments_lexer": "ipython3",
   "version": "3.7.6"
  }
 },
 "nbformat": 4,
 "nbformat_minor": 5
}
